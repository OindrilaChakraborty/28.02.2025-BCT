{
 "cells": [
  {
   "cell_type": "code",
   "execution_count": 9,
   "metadata": {},
   "outputs": [
    {
     "name": "stdout",
     "output_type": "stream",
     "text": [
      "init\n"
     ]
    }
   ],
   "source": [
    "class Test:\n",
    "    i= 10\n",
    "\n",
    "    def __init__(self):\n",
    "        print(\"init\")\n",
    "\n",
    "    def f1(self):\n",
    "        print(\"Hello\")\n",
    "\n",
    "t1 = Test()"
   ]
  },
  {
   "cell_type": "code",
   "execution_count": 11,
   "metadata": {},
   "outputs": [
    {
     "name": "stdout",
     "output_type": "stream",
     "text": [
      "init\n",
      "init\n",
      "init\n"
     ]
    }
   ],
   "source": [
    "class Test:\n",
    "    i= 10\n",
    "\n",
    "    def __init__(self):\n",
    "        print(\"init\")\n",
    "\n",
    "    def f1(self):\n",
    "        print(\"Hello\")\n",
    "\n",
    "t1 = Test()\n",
    "t2 = Test()\n",
    "t3 = Test()"
   ]
  },
  {
   "cell_type": "code",
   "execution_count": 10,
   "metadata": {},
   "outputs": [
    {
     "name": "stdout",
     "output_type": "stream",
     "text": [
      "10 20\n",
      "10 20\n",
      "10 20\n"
     ]
    }
   ],
   "source": [
    "class Test:\n",
    "    def __init__(self):\n",
    "        self.a = 10\n",
    "        self.b = 20\n",
    "t1 = Test()\n",
    "t2 = Test()\n",
    "t3 = Test()\n",
    "print(t1.a, t1.b)\n",
    "print(t2.a, t2.b)\n",
    "print(t3.a, t3.b)\n",
    "        "
   ]
  },
  {
   "cell_type": "code",
   "execution_count": 13,
   "metadata": {},
   "outputs": [
    {
     "name": "stdout",
     "output_type": "stream",
     "text": [
      "Name =  Oindrila\n",
      "Age =  20\n",
      "Roll No. =  87\n"
     ]
    }
   ],
   "source": [
    "class Person:\n",
    "    def __init__(self, n, a):\n",
    "        self.name = n\n",
    "        self.age = a\n",
    "    def showName(self):\n",
    "        print(\"Name = \", self.name)\n",
    "    def showAge(self):\n",
    "        print(\"Age = \", self.age)\n",
    "    \n",
    "class Student(Person):\n",
    "    def __init__(self, n, a, r):\n",
    "        super().__init__(n, a) \n",
    "        self.rollno = r\n",
    "    \n",
    "    def showRollno(self):\n",
    "        print(\"Roll No. = \", self.rollno)\n",
    "s1 = Student(\"Oindrila\", 20, 87)\n",
    "s1.showName()\n",
    "s1.showAge()\n",
    "s1.showRollno()         "
   ]
  },
  {
   "cell_type": "code",
   "execution_count": null,
   "metadata": {},
   "outputs": [],
   "source": []
  }
 ],
 "metadata": {
  "kernelspec": {
   "display_name": "Python 3",
   "language": "python",
   "name": "python3"
  },
  "language_info": {
   "codemirror_mode": {
    "name": "ipython",
    "version": 3
   },
   "file_extension": ".py",
   "mimetype": "text/x-python",
   "name": "python",
   "nbconvert_exporter": "python",
   "pygments_lexer": "ipython3",
   "version": "3.13.2"
  }
 },
 "nbformat": 4,
 "nbformat_minor": 2
}
